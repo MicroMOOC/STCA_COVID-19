{
 "cells": [
  {
   "cell_type": "code",
   "execution_count": 1,
   "metadata": {},
   "outputs": [],
   "source": [
    "import pandas as pd\n",
    "\n",
    "covid_19_data = pd.read_csv(\"https://openedxvideosa.blob.core.chinacloudapi.cn/videos/MicroMOOC/datasets/STCA_COVID-19(0618)/covid_19_data.csv\")\n",
    "time_series_covid_19_confirmed = pd.read_csv(\"https://openedxvideosa.blob.core.chinacloudapi.cn/videos/MicroMOOC/datasets/STCA_COVID-19(0618)/time_series_covid_19_confirmed.csv\")\n",
    "time_series_covid_19_confirmed_US = pd.read_csv(\"https://openedxvideosa.blob.core.chinacloudapi.cn/videos/MicroMOOC/datasets/STCA_COVID-19(0618)/time_series_covid_19_confirmed_US.csv\")\n",
    "time_series_covid_19_deaths = pd.read_csv(\"https://openedxvideosa.blob.core.chinacloudapi.cn/videos/MicroMOOC/datasets/STCA_COVID-19(0618)/time_series_covid_19_deaths.csv\")\n",
    "time_series_covid_19_deaths_US = pd.read_csv(\"https://openedxvideosa.blob.core.chinacloudapi.cn/videos/MicroMOOC/datasets/STCA_COVID-19(0618)/time_series_covid_19_deaths_US.csv\")\n",
    "time_series_covid_19_recovered = pd.read_csv(\"https://openedxvideosa.blob.core.chinacloudapi.cn/videos/MicroMOOC/datasets/STCA_COVID-19(0618)/time_series_covid_19_recovered.csv\")"
   ]
  },
  {
   "cell_type": "code",
   "execution_count": null,
   "metadata": {},
   "outputs": [],
   "source": []
  }
 ],
 "metadata": {
  "kernelspec": {
   "display_name": "Python 3",
   "language": "python",
   "name": "python3"
  },
  "language_info": {
   "codemirror_mode": {
    "name": "ipython",
    "version": 3
   },
   "file_extension": ".py",
   "mimetype": "text/x-python",
   "name": "python",
   "nbconvert_exporter": "python",
   "pygments_lexer": "ipython3",
   "version": "3.7.6"
  }
 },
 "nbformat": 4,
 "nbformat_minor": 4
}
